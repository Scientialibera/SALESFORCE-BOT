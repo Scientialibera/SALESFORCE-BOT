{
 "cells": [
  {
   "cell_type": "code",
   "execution_count": 4,
   "id": "fe48e43a",
   "metadata": {},
   "outputs": [
    {
     "name": "stdout",
     "output_type": "stream",
     "text": [
      "(5.1, 3.5, 1.4, 0.2, 'Iris-setosa')\n",
      "(4.9, 3.0, 1.4, 0.2, 'Iris-setosa')\n",
      "(4.7, 3.2, 1.3, 0.2, 'Iris-setosa')\n",
      "(4.6, 3.1, 1.5, 0.2, 'Iris-setosa')\n",
      "(5.0, 3.6, 1.4, 0.2, 'Iris-setosa')\n"
     ]
    }
   ],
   "source": [
    "import struct\n",
    "import pyodbc\n",
    "from azure.identity import AzureCliCredential  # or InteractiveBrowserCredential, etc.\n",
    "\n",
    "# --- fill these from Fabric connection strings ---\n",
    "SERVER   = \"tcp:dwqurwscuuxern3c5uxx3n3hgq-apvmkjmaa6xe3knachpdztfq3e.datawarehouse.fabric.microsoft.com,1433\"\n",
    "DATABASE = \"lh_aura_001\"  # the SQL endpoint's DB (e.g., lakehouse name)\n",
    "\n",
    "# Get an AAD access token for SQL (resource = database.windows.net)\n",
    "# Tip: 'az login' in the same VS Code shell makes AzureCliCredential work immediately.\n",
    "scope = \"https://database.windows.net/.default\"\n",
    "token = AzureCliCredential().get_token(scope).token\n",
    "\n",
    "# ODBC expects the token as UTF-16-LE with a 4-byte length prefix (SQL_COPT_SS_ACCESS_TOKEN = 1256)\n",
    "token_bytes  = token.encode(\"utf-16-le\")\n",
    "token_struct = struct.pack(\"=i\", len(token_bytes)) + token_bytes\n",
    "\n",
    "conn_str = (\n",
    "    \"DRIVER={ODBC Driver 18 for SQL Server};\"\n",
    "    f\"SERVER={SERVER};\"\n",
    "    f\"DATABASE={DATABASE};\"\n",
    "    \"Encrypt=yes;TrustServerCertificate=no;Connection Timeout=30;\"\n",
    ")\n",
    "\n",
    "with pyodbc.connect(conn_str, attrs_before={1256: token_struct}) as conn:\n",
    "    rows = conn.cursor().execute(\"SELECT TOP (5) * FROM dbo.iris;\").fetchall()\n",
    "    for r in rows:\n",
    "        print(r)\n"
   ]
  },
  {
   "cell_type": "code",
   "execution_count": 5,
   "id": "511a742c",
   "metadata": {},
   "outputs": [
    {
     "name": "stdout",
     "output_type": "stream",
     "text": [
      "(5.1, 3.5, 1.4, 0.2, 'Iris-setosa')\n",
      "(4.9, 3.0, 1.4, 0.2, 'Iris-setosa')\n",
      "(4.7, 3.2, 1.3, 0.2, 'Iris-setosa')\n",
      "(4.6, 3.1, 1.5, 0.2, 'Iris-setosa')\n",
      "(5.0, 3.6, 1.4, 0.2, 'Iris-setosa')\n"
     ]
    }
   ],
   "source": [
    "rows = conn.cursor().execute(\"SELECT TOP (5) * FROM dbo.iris;\").fetchall()\n",
    "for r in rows:\n",
    "    print(r)"
   ]
  }
 ],
 "metadata": {
  "kernelspec": {
   "display_name": "Python 3",
   "language": "python",
   "name": "python3"
  },
  "language_info": {
   "codemirror_mode": {
    "name": "ipython",
    "version": 3
   },
   "file_extension": ".py",
   "mimetype": "text/x-python",
   "name": "python",
   "nbconvert_exporter": "python",
   "pygments_lexer": "ipython3",
   "version": "3.13.7"
  }
 },
 "nbformat": 4,
 "nbformat_minor": 5
}
